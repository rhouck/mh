{
 "metadata": {
  "name": "",
  "signature": "sha256:ac0eb95dfe17cd8290ec5026be9084f1ef7003a3856902acf670581d9d969011"
 },
 "nbformat": 3,
 "nbformat_minor": 0,
 "worksheets": [
  {
   "cells": [
    {
     "cell_type": "code",
     "collapsed": false,
     "input": [
      "%matplotlib inline\n",
      "import matplotlib.pyplot as plt\n",
      "import pandas as pd\n",
      "import numpy as np\n",
      "\n",
      "# load source data\n",
      "# index records by auction_id\n",
      "data = pd.read_csv('source/20140129.0.click.0.csv', index_col=2)\n",
      "click = pd.DataFrame(data)\n",
      "\n",
      "data = pd.read_csv('source/20140129.0.view.0.csv', index_col=2)\n",
      "view = pd.DataFrame(data)"
     ],
     "language": "python",
     "metadata": {},
     "outputs": [],
     "prompt_number": 120
    },
    {
     "cell_type": "code",
     "collapsed": false,
     "input": [
      "# convert unix timestamps to datetime\n",
      "for i in ['event_time','request_time', 'view_time']:\n",
      "    click[i] = pd.to_datetime(click[i]/1000000, unit='s')\n",
      "    view[i] = pd.to_datetime(view[i]/1000000, unit='s')"
     ],
     "language": "python",
     "metadata": {},
     "outputs": [],
     "prompt_number": 121
    },
    {
     "cell_type": "code",
     "collapsed": false,
     "input": [
      "# get earliest view_time from view rows\n",
      "earliest_view_record_time = view.sort('request_time').ix[0]['request_time']\n",
      "\n",
      "# remove click rows that took place before the first view \n",
      "click_wo_noise = click[click['request_time'] >= earliest_view_record_time]"
     ],
     "language": "python",
     "metadata": {},
     "outputs": [],
     "prompt_number": 122
    },
    {
     "cell_type": "code",
     "collapsed": false,
     "input": [
      "# show earliest records in each group when sorted by request time\n",
      "print \"Earliest View\"\n",
      "print view.sort('request_time').ix[0][['event_time', 'view_time', 'request_time','total_media_cost_usd_nanos']]\n",
      "print \"\"\n",
      "print \"Earliest Click\"\n",
      "print click.sort('request_time').ix[0][['event_time', 'view_time', 'request_time','total_media_cost_usd_nanos']]\n",
      "print \"\"\n",
      "print \"Earliest Truncated Click\"\n",
      "print click_wo_noise.sort('request_time').ix[0][['event_time', 'view_time', 'request_time','total_media_cost_usd_nanos']]"
     ],
     "language": "python",
     "metadata": {},
     "outputs": [
      {
       "output_type": "stream",
       "stream": "stdout",
       "text": [
        "Earliest View\n",
        "event_time                    2014-01-28 02:30:05.949601\n",
        "view_time                     2014-01-28 02:30:05.949601\n",
        "request_time                  2014-01-28 02:30:05.227118\n",
        "total_media_cost_usd_nanos                         34500\n",
        "Name: ABAjH0gsy2k_fnti3fxd0dGU4AJH, dtype: object"
       ]
      },
      {
       "output_type": "stream",
       "stream": "stdout",
       "text": [
        "\n",
        "\n",
        "Earliest Click\n",
        "event_time                    2014-01-28 16:14:00.000003\n",
        "view_time                     2014-01-26 20:00:25.332739\n",
        "request_time                  2014-01-26 20:00:24.353905\n",
        "total_media_cost_usd_nanos                        690000\n",
        "Name: ABAjH0hJrw0XC7QQTUaxZHV9P_Di, dtype: object\n",
        "\n",
        "Earliest Truncated Click\n",
        "event_time                    2014-01-28 02:46:24.000003\n",
        "view_time                     2014-01-28 02:44:07.105735\n",
        "request_time                  2014-01-28 02:44:05.231100\n",
        "total_media_cost_usd_nanos                        184000\n",
        "Name: ABAjH0ggAT_w_gBX4LMQbHz-EpE-, dtype: object\n"
       ]
      }
     ],
     "prompt_number": 123
    },
    {
     "cell_type": "code",
     "collapsed": false,
     "input": [
      "# show latest records in each group when sorted by request time\n",
      "print \"Latest View\"\n",
      "print view.sort('request_time').ix[-1][['event_time', 'view_time', 'request_time','total_media_cost_usd_nanos']]\n",
      "print \"\"\n",
      "print \"Latest Click\"\n",
      "print click.sort('request_time').ix[-1][['event_time', 'view_time', 'request_time','total_media_cost_usd_nanos']]\n",
      "print \"\"\n",
      "print \"Latest Truncated Click\"\n",
      "print click_wo_noise.sort('request_time').ix[-1][['event_time', 'view_time', 'request_time','total_media_cost_usd_nanos']]"
     ],
     "language": "python",
     "metadata": {},
     "outputs": [
      {
       "output_type": "stream",
       "stream": "stdout",
       "text": [
        "Latest View\n",
        "event_time                    2014-01-29 02:43:21.716120\n",
        "view_time                     2014-01-29 02:43:21.716120\n",
        "request_time                  2014-01-29 02:43:21.294172\n",
        "total_media_cost_usd_nanos                        196650\n",
        "Name: ABAjH0gUIQzUFfbyvqYl1Nr9_UWO, dtype: object"
       ]
      },
      {
       "output_type": "stream",
       "stream": "stdout",
       "text": [
        "\n",
        "\n",
        "Latest Click\n",
        "event_time                    2014-01-28 21:23:40.000004\n",
        "view_time                     2014-01-28 21:23:33.641531\n",
        "request_time                  2014-01-28 21:23:33.426059\n",
        "total_media_cost_usd_nanos                       2365550\n",
        "Name: ABAjH0hB6FN1IbuwU-HITJGsYQI0, dtype: object\n",
        "\n",
        "Latest Truncated Click\n",
        "event_time                    2014-01-28 21:23:40.000004\n",
        "view_time                     2014-01-28 21:23:33.641531\n",
        "request_time                  2014-01-28 21:23:33.426059\n",
        "total_media_cost_usd_nanos                       2365550\n",
        "Name: ABAjH0hB6FN1IbuwU-HITJGsYQI0, dtype: object\n"
       ]
      }
     ],
     "prompt_number": 124
    },
    {
     "cell_type": "code",
     "collapsed": false,
     "input": [
      "# select only relevant click columns for comparison with view (aside from event_time, these should be the same)\n",
      "rel_cols = ['event_time', 'view_time', 'request_time','total_media_cost_usd_nanos', 'url']\n",
      "short_click = click_wo_noise[rel_cols]\n",
      "# rename click columns to not confuse with view columns\n",
      "short_click.columns = [\"%s_click\" % (c) for c in short_click.columns]\n",
      "# join views and clicks\n",
      "combined = view.join(short_click, how='left')"
     ],
     "language": "python",
     "metadata": {},
     "outputs": [],
     "prompt_number": 125
    },
    {
     "cell_type": "code",
     "collapsed": false,
     "input": [
      "# remove rows with missing click pricing information\n",
      "combined_wo_nan_click_price = combined[np.isfinite(combined['total_media_cost_usd_nanos_click'])]\n",
      "\n",
      "# confirm click and view column values are identical (aside from event_time) \n",
      "for i in rel_cols:\n",
      "    couple = combined_wo_nan_click_price[[i, '%s_click' % (i)]]\n",
      "    check = couple.eq(couple.iloc[:, 0], axis=0).all(1)\n",
      "    # print number of times column values were not equal\n",
      "    print i\n",
      "    print check[check<1].shape\n",
      "    print couple[check<1].head()\n",
      "    print \"\""
     ],
     "language": "python",
     "metadata": {},
     "outputs": [
      {
       "output_type": "stream",
       "stream": "stdout",
       "text": [
        "event_time\n",
        "(55,)\n",
        "                                             event_time  \\\n",
        "auction_id                                                \n",
        "ABAjH0g-7zGliKyBEwSUe_PdCEMc 2014-01-28 06:04:41.607060   \n",
        "ABAjH0gJFon9wD-k49_656JCDCTi 2014-01-28 04:58:28.138158   \n",
        "ABAjH0idVCPr6neay8pG8IufJHvY 2014-01-28 03:48:58.519000   \n",
        "ABAjH0gXzBUTHyT5FprzyQi8xjtR 2014-01-28 06:48:44.714459   \n",
        "ABAjH0gp1YR9DV4tYU1INu3Xc3kk 2014-01-28 05:45:59.498156   \n",
        "\n",
        "                                       event_time_click  \n",
        "auction_id                                               \n",
        "ABAjH0g-7zGliKyBEwSUe_PdCEMc 2014-01-28 06:04:45.000004  \n",
        "ABAjH0gJFon9wD-k49_656JCDCTi 2014-01-28 05:01:15.000010  \n",
        "ABAjH0idVCPr6neay8pG8IufJHvY 2014-01-28 03:49:22.000004  \n",
        "ABAjH0gXzBUTHyT5FprzyQi8xjtR 2014-01-28 06:51:28.000001  \n",
        "ABAjH0gp1YR9DV4tYU1INu3Xc3kk 2014-01-28 05:46:19.000006  \n",
        "\n",
        "view_time\n",
        "(0,)\n",
        "Empty DataFrame\n",
        "Columns: [view_time, view_time_click]\n",
        "Index: []\n",
        "\n",
        "request_time\n",
        "(0,)\n",
        "Empty DataFrame\n",
        "Columns: [request_time, request_time_click]\n",
        "Index: []\n",
        "\n",
        "total_media_cost_usd_nanos\n",
        "(0,)\n",
        "Empty DataFrame\n",
        "Columns: [total_media_cost_usd_nanos, total_media_cost_usd_nanos_click]\n",
        "Index: []\n",
        "\n",
        "url\n",
        "(0,)\n",
        "Empty DataFrame\n",
        "Columns: [url, url_click]\n",
        "Index: []\n",
        "\n"
       ]
      }
     ],
     "prompt_number": 126
    },
    {
     "cell_type": "code",
     "collapsed": false,
     "input": [
      "# remove rows with missing click pricing information\n",
      "combined_wo_nan_click_price = combined[pd.notnull(combined['request_time_click'])]\n",
      "\n",
      "# confirm click and view column values are identical (aside from event_time) \n",
      "for i in rel_cols:\n",
      "    couple = combined_wo_nan_click_price[[i, '%s_click' % (i)]]\n",
      "    check = couple.eq(couple.iloc[:, 0], axis=0).all(1)\n",
      "    # print number of times column values were not equal\n",
      "    print i\n",
      "    print check[check<1].shape\n",
      "    print couple[check<1].head()\n",
      "    print \"\""
     ],
     "language": "python",
     "metadata": {},
     "outputs": [
      {
       "output_type": "stream",
       "stream": "stdout",
       "text": [
        "event_time\n",
        "(155,)\n",
        "                                             event_time  \\\n",
        "auction_id                                                \n",
        "ABAjH0g-7zGliKyBEwSUe_PdCEMc 2014-01-28 06:04:41.607060   \n",
        "ABAjH0gJFon9wD-k49_656JCDCTi 2014-01-28 04:58:28.138158   \n",
        "ABAjH0idVCPr6neay8pG8IufJHvY 2014-01-28 03:48:58.519000   \n",
        "ABAjH0gXzBUTHyT5FprzyQi8xjtR 2014-01-28 06:48:44.714459   \n",
        "ABAjH0gp1YR9DV4tYU1INu3Xc3kk 2014-01-28 05:45:59.498156   \n",
        "\n",
        "                                       event_time_click  \n",
        "auction_id                                               \n",
        "ABAjH0g-7zGliKyBEwSUe_PdCEMc 2014-01-28 06:04:45.000004  \n",
        "ABAjH0gJFon9wD-k49_656JCDCTi 2014-01-28 05:01:15.000010  \n",
        "ABAjH0idVCPr6neay8pG8IufJHvY 2014-01-28 03:49:22.000004  \n",
        "ABAjH0gXzBUTHyT5FprzyQi8xjtR 2014-01-28 06:51:28.000001  \n",
        "ABAjH0gp1YR9DV4tYU1INu3Xc3kk 2014-01-28 05:46:19.000006  \n",
        "\n",
        "view_time\n",
        "(100,)\n",
        "                                              view_time view_time_click\n",
        "auction_id                                                             \n",
        "ABAjH0hkg3akQfKF57Le4vA9k9we 2014-01-28 08:50:31.336180             NaT\n",
        "ABAjH0hAF2-DyQ48v9_Weh8eDfFA 2014-01-28 10:53:15.688897             NaT\n",
        "ABAjH0hVGj8MowWir4r9Ij_NAefG 2014-01-28 10:57:14.984425             NaT\n",
        "ABAjH0g6Paxvdlh-ThZh7wzSGt89 2014-01-28 08:00:44.647584             NaT\n",
        "ABAjH0gw6t90TNispOacn3AU3ZBm 2014-01-28 09:07:05.235424             NaT\n",
        "\n",
        "request_time\n",
        "(0,)\n",
        "Empty DataFrame\n",
        "Columns: [request_time, request_time_click]\n",
        "Index: []\n",
        "\n",
        "total_media_cost_usd_nanos\n",
        "(100,)\n",
        "                              total_media_cost_usd_nanos  \\\n",
        "auction_id                                                 \n",
        "ABAjH0hkg3akQfKF57Le4vA9k9we                      272550   \n",
        "ABAjH0hAF2-DyQ48v9_Weh8eDfFA                      253000   \n",
        "ABAjH0hVGj8MowWir4r9Ij_NAefG                      138000   \n",
        "ABAjH0g6Paxvdlh-ThZh7wzSGt89                     1971100   \n",
        "ABAjH0gw6t90TNispOacn3AU3ZBm                      484150   \n",
        "\n",
        "                              total_media_cost_usd_nanos_click  \n",
        "auction_id                                                      \n",
        "ABAjH0hkg3akQfKF57Le4vA9k9we                               NaN  \n",
        "ABAjH0hAF2-DyQ48v9_Weh8eDfFA                               NaN  \n",
        "ABAjH0hVGj8MowWir4r9Ij_NAefG                               NaN  \n",
        "ABAjH0g6Paxvdlh-ThZh7wzSGt89                               NaN  \n",
        "ABAjH0gw6t90TNispOacn3AU3ZBm                               NaN  \n",
        "\n",
        "url\n",
        "(100,)\n",
        "                                                                            url  \\\n",
        "auction_id                                                                        \n",
        "ABAjH0hkg3akQfKF57Le4vA9k9we       http://www.basketball.com/fantasybasketball/   \n",
        "ABAjH0hAF2-DyQ48v9_Weh8eDfFA  http://profootballtalk.nbcsports.com/2014/01/2...   \n",
        "ABAjH0hVGj8MowWir4r9Ij_NAefG              http://profootballtalk.nbcsports.com/   \n",
        "ABAjH0g6Paxvdlh-ThZh7wzSGt89  http://www.nutritionist-finder.com/arizona/cas...   \n",
        "ABAjH0gw6t90TNispOacn3AU3ZBm                         http://www.basketball.com/   \n",
        "\n",
        "                             url_click  \n",
        "auction_id                              \n",
        "ABAjH0hkg3akQfKF57Le4vA9k9we       NaN  \n",
        "ABAjH0hAF2-DyQ48v9_Weh8eDfFA       NaN  \n",
        "ABAjH0hVGj8MowWir4r9Ij_NAefG       NaN  \n",
        "ABAjH0g6Paxvdlh-ThZh7wzSGt89       NaN  \n",
        "ABAjH0gw6t90TNispOacn3AU3ZBm       NaN  \n",
        "\n"
       ]
      }
     ],
     "prompt_number": 127
    },
    {
     "cell_type": "markdown",
     "metadata": {},
     "source": [
      "The two prior sets show that while the truncated click data set is missing a lot of data, making comparison difficult, when it is available, it is always equal to its corresponding column in the view data set (aside from event_time, as expected)."
     ]
    },
    {
     "cell_type": "code",
     "collapsed": false,
     "input": [
      "# calculate CTR and CPC "
     ],
     "language": "python",
     "metadata": {},
     "outputs": [],
     "prompt_number": 128
    },
    {
     "cell_type": "code",
     "collapsed": false,
     "input": [],
     "language": "python",
     "metadata": {},
     "outputs": []
    }
   ],
   "metadata": {}
  }
 ]
}