{
 "metadata": {
  "name": "",
  "signature": "sha256:842bc2d34b36b6d37e9d13caa17cc338829aa22978c03da08bbe47c0e6f006e8"
 },
 "nbformat": 3,
 "nbformat_minor": 0,
 "worksheets": [
  {
   "cells": [
    {
     "cell_type": "code",
     "collapsed": false,
     "input": [
      "%matplotlib inline\n",
      "import matplotlib.pyplot as plt\n",
      "import pandas as pd\n",
      "import numpy as np\n",
      "\n",
      "# load source data\n",
      "data = pd.read_csv('source/20140129.0.click.0.csv')#, index_col=0, parse_dates=True)\n",
      "click = pd.DataFrame(data)\n",
      "\n",
      "data = pd.read_csv('source/20140129.0.conversion.0.csv')#, index_col=0, parse_dates=True)\n",
      "conv = pd.DataFrame(data)\n",
      "\n",
      "data = pd.read_csv('source/20140129.0.view.0.csv')#, index_col=0, parse_dates=True)\n",
      "view = pd.DataFrame(data)\n",
      "\n",
      "# combine dataframes\n",
      "full = click.append(conv)\n",
      "full = full.append(view)"
     ],
     "language": "python",
     "metadata": {},
     "outputs": [],
     "prompt_number": 21
    },
    {
     "cell_type": "code",
     "collapsed": false,
     "input": [
      "print click.shape\n",
      "print conv.shape\n",
      "print view.shape\n",
      "print full.shape\n",
      "click_ratio = (click.shape[0] + conv.shape[0])/ (full.shape[0] * 1.) \n",
      "print \"click ratio (as %%): %0.10f\" % (click_ratio*100) "
     ],
     "language": "python",
     "metadata": {},
     "outputs": [
      {
       "output_type": "stream",
       "stream": "stdout",
       "text": [
        "(204, 67)\n",
        "(24, 67)\n",
        "(518340, 67)\n",
        "(518568, 67)\n",
        "click ratio (as %): 0.0439672328\n"
       ]
      }
     ],
     "prompt_number": 22
    },
    {
     "cell_type": "code",
     "collapsed": false,
     "input": [
      "# convert unix timestamps to datetime\n",
      "for i in ['event_time','request_time', 'view_time']:\n",
      "    full[i] = pd.to_datetime(full[i]/1000000, unit='s')"
     ],
     "language": "python",
     "metadata": {},
     "outputs": [],
     "prompt_number": 23
    },
    {
     "cell_type": "code",
     "collapsed": false,
     "input": [
      "# bundle/group pricing categories\n",
      "pricing = [\n",
      "    ['bid_price_usd_nanos', \n",
      "     'bid_price_partner_currency_nanos', \n",
      "     'bid_price_advertiser_currency_nanos', \n",
      "     ],\n",
      "    [\n",
      "     'winning_price_usd_nanos',\n",
      "     'winning_price_partner_currency_nanos',\n",
      "     'winning_price_advertiser_currency_nanos',\n",
      "    ],\n",
      "    [\n",
      "     'partner_revenue_usd_nanos', \n",
      "     'partner_revenue_partner_currency_nanos',\n",
      "     'partner_revenue_advertiser_currency_nanos',\n",
      "    ],\n",
      "    [\n",
      "     'total_media_cost_usd_nanos',\n",
      "     'total_media_cost_partner_currency_nanos',\n",
      "     'total_media_cost_advertiser_currency_nanos',\n",
      "    ],\n",
      "    [\n",
      "     'cpm_additional_cost1_usd_nanos',\n",
      "     'cpm_additional_cost1_partner_currency_nanos',\n",
      "     'cpm_additional_cost1_advertiser_currency_nanos',\n",
      "    ],\n",
      "    [\n",
      "     'cpm_additional_cost2_usd_nanos',\n",
      "     'cpm_additional_cost2_partner_currency_nanos',\n",
      "     'cpm_additional_cost2_advertiser_currency_nanos',\n",
      "    ],\n",
      "    [\n",
      "     'percent_media_additional_cost_1_usd_nanos',\n",
      "     'percent_media_additional_cost_1_partner_currency_nanos',\n",
      "     'percent_media_additional_cost_1_advertiser_currency_nanos',\n",
      "    ],\n",
      "    [\n",
      "     'percent_media_additional_cost_2_usd_nanos',\n",
      "     'percent_media_additional_cost_2_partner_currency_nanos',\n",
      "     'percent_media_additional_cost_2_advertiser_currency_nanos',\n",
      "    ],\n",
      "    [\n",
      "     'data_cost_usd_nanos',\n",
      "     'data_cost_partner_currency_nanos',\n",
      "     'data_cost_advertiser_currency_nanos',\n",
      "    ],\n",
      "    [\n",
      "     'billable_cost_usd_nanos',\n",
      "     'billable_cost_partner_currency_nanos',\n",
      "     'billable_cost_advertiser_currency_nanos',\n",
      "     ],\n",
      "]"
     ],
     "language": "python",
     "metadata": {},
     "outputs": [],
     "prompt_number": 24
    },
    {
     "cell_type": "code",
     "collapsed": false,
     "input": [
      "for i in pricing:\n",
      "    # get column subset based on pricing category\n",
      "    pricing_sub = full[i]\n",
      "    full_size = pricing_sub.shape[0]\n",
      "    # remove rows with all nan values\n",
      "    pricing_sub = pricing_sub.dropna(how='all')\n",
      "    drop_nan_size = pricing_sub.shape[0]\n",
      "    # sets whether each column value is equal to first column value in category\n",
      "    # checks that each value is true\n",
      "    check = pricing_sub.eq(pricing_sub.iloc[:, 0], axis=0).all(1)\n",
      "    # show rows with any non-matching values\n",
      "    print \"Pricing group columns: %s\" % (i)\n",
      "    print \"Share of non-nan values: %0.2f%%\" % ((drop_nan_size * 1.) / full_size) \n",
      "    print check[check<1].head()\n",
      "    print check[check<1].shape\n",
      "    print \"\""
     ],
     "language": "python",
     "metadata": {},
     "outputs": [
      {
       "output_type": "stream",
       "stream": "stdout",
       "text": [
        "Pricing group columns: ['bid_price_usd_nanos', 'bid_price_partner_currency_nanos', 'bid_price_advertiser_currency_nanos']\n",
        "Share of non-nan values: 1.00%\n",
        "Series([], dtype: bool)\n",
        "(0,)\n",
        "\n",
        "Pricing group columns: ['winning_price_usd_nanos', 'winning_price_partner_currency_nanos', 'winning_price_advertiser_currency_nanos']"
       ]
      },
      {
       "output_type": "stream",
       "stream": "stdout",
       "text": [
        "\n",
        "Share of non-nan values: 1.00%\n",
        "Series([], dtype: bool)\n",
        "(0,)\n",
        "\n",
        "Pricing group columns: ['partner_revenue_usd_nanos', 'partner_revenue_partner_currency_nanos', 'partner_revenue_advertiser_currency_nanos']"
       ]
      },
      {
       "output_type": "stream",
       "stream": "stdout",
       "text": [
        "\n",
        "Share of non-nan values: 1.00%\n",
        "Series([], dtype: bool)\n",
        "(0,)\n",
        "\n",
        "Pricing group columns: ['total_media_cost_usd_nanos', 'total_media_cost_partner_currency_nanos', 'total_media_cost_advertiser_currency_nanos']"
       ]
      },
      {
       "output_type": "stream",
       "stream": "stdout",
       "text": [
        "\n",
        "Share of non-nan values: 1.00%\n",
        "Series([], dtype: bool)\n",
        "(0,)\n",
        "\n",
        "Pricing group columns: ['cpm_additional_cost1_usd_nanos', 'cpm_additional_cost1_partner_currency_nanos', 'cpm_additional_cost1_advertiser_currency_nanos']"
       ]
      },
      {
       "output_type": "stream",
       "stream": "stdout",
       "text": [
        "\n",
        "Share of non-nan values: 1.00%\n",
        "Series([], dtype: bool)"
       ]
      },
      {
       "output_type": "stream",
       "stream": "stdout",
       "text": [
        "\n",
        "(0,)\n",
        "\n",
        "Pricing group columns: ['cpm_additional_cost2_usd_nanos', 'cpm_additional_cost2_partner_currency_nanos', 'cpm_additional_cost2_advertiser_currency_nanos']"
       ]
      },
      {
       "output_type": "stream",
       "stream": "stdout",
       "text": [
        "\n",
        "Share of non-nan values: 1.00%\n",
        "Series([], dtype: bool)\n",
        "(0,)\n",
        "\n",
        "Pricing group columns: ['percent_media_additional_cost_1_usd_nanos', 'percent_media_additional_cost_1_partner_currency_nanos', 'percent_media_additional_cost_1_advertiser_currency_nanos']"
       ]
      },
      {
       "output_type": "stream",
       "stream": "stdout",
       "text": [
        "\n",
        "Share of non-nan values: 1.00%\n",
        "Series([], dtype: bool)"
       ]
      },
      {
       "output_type": "stream",
       "stream": "stdout",
       "text": [
        "\n",
        "(0,)\n",
        "\n",
        "Pricing group columns: ['percent_media_additional_cost_2_usd_nanos', 'percent_media_additional_cost_2_partner_currency_nanos', 'percent_media_additional_cost_2_advertiser_currency_nanos']"
       ]
      },
      {
       "output_type": "stream",
       "stream": "stdout",
       "text": [
        "\n",
        "Share of non-nan values: 1.00%\n",
        "Series([], dtype: bool)"
       ]
      },
      {
       "output_type": "stream",
       "stream": "stdout",
       "text": [
        "\n",
        "(0,)\n",
        "\n",
        "Pricing group columns: ['data_cost_usd_nanos', 'data_cost_partner_currency_nanos', 'data_cost_advertiser_currency_nanos']"
       ]
      },
      {
       "output_type": "stream",
       "stream": "stdout",
       "text": [
        "\n",
        "Share of non-nan values: 1.00%\n",
        "Series([], dtype: bool)"
       ]
      },
      {
       "output_type": "stream",
       "stream": "stdout",
       "text": [
        "\n",
        "(0,)\n",
        "\n",
        "Pricing group columns: ['billable_cost_usd_nanos', 'billable_cost_partner_currency_nanos', 'billable_cost_advertiser_currency_nanos']\n",
        "Share of non-nan values: 0.00%\n",
        "Series([], dtype: bool)\n",
        "(0,)\n",
        "\n"
       ]
      }
     ],
     "prompt_number": 25
    },
    {
     "cell_type": "code",
     "collapsed": false,
     "input": [
      "# for pricing groups 1-8, values are identical for each column\n",
      "# pricing group 9 is entirely nan, so we can drop from dataframe\n",
      "# if first column values are identical in every row, drop entire pricing group\n",
      "# otherwise, for these groups remove all columns except first\n",
      "trunc = full.copy()\n",
      "for i in pricing:\n",
      "    # check if first column values are identical\n",
      "    uniques = len(full[i[0]].unique())\n",
      "    # drop entire group if all values are identical\n",
      "    if uniques == 1:\n",
      "        trunc = trunc.drop(i, 1)\n",
      "    # drop all but first column in pricing group\n",
      "    else:\n",
      "        trunc = trunc.drop(i[1:], 1)"
     ],
     "language": "python",
     "metadata": {},
     "outputs": []
    },
    {
     "cell_type": "code",
     "collapsed": false,
     "input": [
      "# plot ad pricing by activity date\n",
      "time_cols = ['event_time', 'view_time', 'request_time']\n",
      "price_metric = 'bid_price_usd_nanos'\n",
      "\n",
      "for t in time_cols:\n",
      "    trunc_date_ind = trunc.sort(t)\n",
      "    trunc_date_ind = trunc_date_ind.set_index(t)\n",
      "    # drop rows with nan values\n",
      "    trunc_date_ind = trunc_date_ind[np.isfinite(trunc_date_ind[price_metric])]\n",
      "\n",
      "    # separate data by event type\n",
      "    click = trunc_date_ind[trunc_date_ind['event_type'] == \"click\"]\n",
      "    conv = trunc_date_ind[trunc_date_ind['event_type'] == \"conversion\"]\n",
      "    view = trunc_date_ind[trunc_date_ind['event_type'] == \"view\"]\n",
      "    \n",
      "    # build chart\n",
      "    fig = plt.figure(); \n",
      "    chart = fig.add_subplot(111)\n",
      "    chart.set_title(t)\n",
      "    chart.set_ylabel(price_metric)\n",
      "    view[price_metric].plot(label='view', legend=True); \n",
      "    click[price_metric].plot(label='click', legend=True); \n",
      "    conv[price_metric].plot(label=\"conversion\", legend=True);\n"
     ],
     "language": "python",
     "metadata": {},
     "outputs": []
    },
    {
     "cell_type": "code",
     "collapsed": false,
     "input": [
      "# confirm understanding of event / view time - view rows should have identical event / view time\n",
      "view[['event_time','view_time']]\n",
      "check = view[['event_time','view_time']].eq(view[['event_time','view_time']].iloc[:, 0], axis=0).all(1)\n",
      "check.unique()"
     ],
     "language": "python",
     "metadata": {},
     "outputs": []
    },
    {
     "cell_type": "code",
     "collapsed": false,
     "input": [
      "# plot ad pricing by activity date\n",
      "# used request time instead of view time because click data set had many missing view time values\n",
      "# chose not to view by event_time for pricing comparison because conversions may occur much later than view \n",
      "# and pricing may not be compariable across time\n",
      "time_cols = ['request_time',]\n",
      "\n",
      "for t in time_cols:\n",
      "    for p in pricing[:-1]:\n",
      "        trunc_date_ind = trunc.sort(t)\n",
      "        trunc_date_ind = trunc_date_ind.set_index(t)\n",
      "        # drop rows with nan values\n",
      "        trunc_date_ind = trunc_date_ind[np.isfinite(trunc_date_ind[p[0]])]\n",
      "\n",
      "        # separate data by event type\n",
      "        click = trunc_date_ind[trunc_date_ind['event_type'] == \"click\"]\n",
      "        conv = trunc_date_ind[trunc_date_ind['event_type'] == \"conversion\"]\n",
      "        view = trunc_date_ind[trunc_date_ind['event_type'] == \"view\"]\n",
      "\n",
      "        # build chart\n",
      "        fig = plt.figure(); \n",
      "        chart = fig.add_subplot(111)\n",
      "        chart.set_title(p[0])\n",
      "        chart.set_ylabel(p[0])\n",
      "        view[p[0]].plot(label='view', legend=True); \n",
      "        click[p[0]].plot(label='click', legend=True); \n",
      "        conv[p[0]].plot(label=\"conversion\", legend=True);"
     ],
     "language": "python",
     "metadata": {},
     "outputs": []
    },
    {
     "cell_type": "code",
     "collapsed": false,
     "input": [
      "# look at urls / universal site ids / ad ex page categories / exchange / ad position / geo region / city / device type / \n",
      "\n",
      "# show you unique values:\n",
      "for i in ['url', 'universal_site_id', 'adx_page_categories', 'exchange', 'ad_position', 'geo_region', 'city_id', 'device_type']:\n",
      "    print \"%s - %s\" % (i, len(full[i].unique()))"
     ],
     "language": "python",
     "metadata": {},
     "outputs": []
    },
    {
     "cell_type": "code",
     "collapsed": false,
     "input": [
      "# find cost per click over various groups and / or time\n",
      "full_by_date = full.set_index('request_time')\n",
      "\n",
      "# build series to tally click events: 1 if click/conversion, 0 if view\n",
      "tally = full_by_date['event_type']\n",
      "tally = tally.map(lambda x: 1 if x != 'view' else 0)\n",
      "tally.name = \"click_tally\"\n",
      "full_date_tally = pd.concat([\n",
      "                    tally,\n",
      "                    full_by_date, \n",
      "                    ], \n",
      "                   axis=1)\n",
      "\n",
      "# this is the column whose values are used as a proxy for cost of the ad\n",
      "cost_metric = 'total_media_cost_usd_nanos'\n",
      "\n",
      "# drop rows with missing cost data\n",
      "full_date_tally = full_date_tally[np.isfinite(full_date_tally[cost_metric])]\n",
      "\n",
      "# group data set by column\n",
      "for group_by in ('geo_region',):# ('ad_position', 'device_type'):\n",
      "    grouped = full_date_tally.groupby(by=group_by).sum()\n",
      "    # build CPC column by dividing summed cost by summed clicks by group\n",
      "    cost = grouped[cost_metric]/1000000. \n",
      "    cpc =  cost / grouped['click_tally']\n",
      "    cpc_summary = pd.concat([\n",
      "                        grouped['click_tally'],\n",
      "                        cost,\n",
      "                        cpc, \n",
      "                        ], \n",
      "                       axis=1,\n",
      "                       )\n",
      "    cpc_summary.columns = ['total_clicks', 'total_spend ($)', 'cpc ($)']\n",
      "    #print cpc_summary\n",
      "    \"\"\"\n",
      "    # build chart\n",
      "    fig = plt.figure(); \n",
      "    chart = fig.add_subplot(111)\n",
      "    chart.set_title(\"CPC grouped by: %s\" % (group_by))\n",
      "    chart.set_ylabel('CPC $s')\n",
      "    cpc_summary['cpc ($)'].plot(kind='hist', bins=2)\n",
      "    \"\"\"\n",
      "    print cpc_summary['cpc ($)'].describe(percentiles=[i/10. for i in range(0,10)])"
     ],
     "language": "python",
     "metadata": {},
     "outputs": []
    }
   ],
   "metadata": {}
  }
 ]
}