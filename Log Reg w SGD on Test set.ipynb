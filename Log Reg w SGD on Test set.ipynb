{
 "metadata": {
  "name": "",
  "signature": "sha256:25c976cee754bf85b23997bba227dce2bcdc6d861b90959529d16676ab29f638"
 },
 "nbformat": 3,
 "nbformat_minor": 0,
 "worksheets": [
  {
   "cells": [
    {
     "cell_type": "code",
     "collapsed": false,
     "input": [
      "%matplotlib inline\n",
      "import matplotlib.pyplot as plt\n",
      "import pandas as pd\n",
      "import numpy as np\n",
      " \n",
      "# load source data\n",
      "# index records by auction_id\n",
      "data = pd.read_csv('source/20140129.0.click.0.csv', index_col=2)\n",
      "click = pd.DataFrame(data)\n",
      " \n",
      "data = pd.read_csv('source/20140129.0.view.0.csv', index_col=2)\n",
      "view = pd.DataFrame(data)"
     ],
     "language": "python",
     "metadata": {},
     "outputs": [],
     "prompt_number": 107
    },
    {
     "cell_type": "code",
     "collapsed": false,
     "input": [
      "# convert unix timestamps to datetime\n",
      "for i in ['event_time','request_time', 'view_time']:\n",
      "    view[i] = pd.to_datetime(view[i]/1000000, unit='s')"
     ],
     "language": "python",
     "metadata": {},
     "outputs": [],
     "prompt_number": 108
    },
    {
     "cell_type": "code",
     "collapsed": false,
     "input": [
      "# add new column to view data signifiying whether an ad was clicked or not\n",
      "# initialize feature as zeros\n",
      "view['clicked'] = 0\n",
      " \n",
      "# select any click column and rename it to join with view dataframe\n",
      "click_series = click['event_type']\n",
      "click_series.name = 'event_type_click'\n",
      " \n",
      "# change clicked ad rows 'clicked' value to 1\n",
      "matched = view.join(click_series, how='inner')\n",
      "view.loc[matched.index, 'clicked'] = 1"
     ],
     "language": "python",
     "metadata": {},
     "outputs": [],
     "prompt_number": 109
    },
    {
     "cell_type": "code",
     "collapsed": false,
     "input": [
      "# isolate columns that can be manipulated to affect CTR\n",
      "# ignore line item id\n",
      "# ignore url - assuming there are too many to make sense of, especially considering how few rows are available\n",
      "# ignore georgraphy\n",
      "# ignore time / day of week\n",
      "cols = ['clicked',\n",
      "        'creative_id', \n",
      "        'universal_site_id', \n",
      "        'adx_page_categories', \n",
      "        'matching_targeted_keywords', \n",
      "        'exchange', \n",
      "        'ad_position', \n",
      "        'matching_targeted_segments', \n",
      "        'device_type'\n",
      "        ]"
     ],
     "language": "python",
     "metadata": {},
     "outputs": [],
     "prompt_number": 110
    },
    {
     "cell_type": "code",
     "collapsed": false,
     "input": [
      "# this function returns a sparce matrix containing hashed feature:value pairs for each feature vector (row)\n",
      "# with online (iterative) learning, it's impossible to know the full range of categorical values for a feature ahead of time\n",
      "# to get around this, we create new features for each unique feature:value pairs by storing hashed values to represent indices in a large vector\n",
      " \n",
      "from sklearn.feature_extraction import FeatureHasher\n",
      " \n",
      "# this is the hashing algorithm we'll be using to map the feature set of unknown complexity\n",
      "hasher = FeatureHasher(input_type='string', n_features=(2 ** 15))\n",
      " \n",
      "def build_row(raw_x):\n",
      "    \n",
      "    # drop universal site id when adx_page_categories is supplied\n",
      "    if not isinstance(raw_x['adx_page_categories'], float):\n",
      "        raw_x['universal_site_id'] = np.nan\n",
      "\n",
      "    x = []\n",
      "    for count, value in enumerate(raw_x):\n",
      "        \n",
      "        # check for string values which represent a list of multiple values\n",
      "        # used for adx_page_categories and matching_targeted_segments\n",
      "        if isinstance(value, str):    \n",
      "            vals = value.split()\n",
      "            for v in vals:\n",
      "                x.append('F%s:%s' % (count,v))\n",
      "            continue\n",
      "        \n",
      "        if  np.isnan(value):\n",
      "            continue\n",
      "        \n",
      "        x.append('F%s:%s' % (count,value))\n",
      "    \n",
      "    return x"
     ],
     "language": "python",
     "metadata": {},
     "outputs": [],
     "prompt_number": 111
    },
    {
     "cell_type": "code",
     "collapsed": false,
     "input": [
      "import datetime\n",
      " \n",
      "# convert data set to bank array of sparce matrices\n",
      "for t, i in enumerate(view.index):\n",
      "        \n",
      "    # add new row to bank\n",
      "    y = view.ix[i][cols[0]]\n",
      "    raw_x = view.ix[i][cols[1:]]\n",
      "    \n",
      "    row = build_row(raw_x,)\n",
      "    \n",
      "    # create bank to store hashed rows\n",
      "    # store recent indexes to drop from data frame in batches\n",
      "    if t == 0:\n",
      "        rows = [row]\n",
      "        targets = [y]\n",
      "        ind_bank = [i]\n",
      "    else:\n",
      "        rows.append(row)\n",
      "        targets.append(y)\n",
      "        ind_bank.append(i)\n",
      "    \n",
      "    # monitor progress\n",
      "    if t % 20000 == 0 and t > 0:   \n",
      "        \n",
      "        # drop rows from data frame\n",
      "        view = view.drop(ind_bank)\n",
      "        ind_bank = []   \n",
      "        print '%s\\trows processed: %d' % (datetime.datetime.now(), t)\n",
      " \n",
      "view = view.drop(ind_bank)\n",
      "print \"Finished formatting rows for conversion to sparse matrices\""
     ],
     "language": "python",
     "metadata": {},
     "outputs": [
      {
       "output_type": "stream",
       "stream": "stdout",
       "text": [
        "2014-12-08 15:28:27.179533\trows processed: 20000\n",
        "2014-12-08 15:28:43.356054\trows processed: 40000"
       ]
      },
      {
       "output_type": "stream",
       "stream": "stdout",
       "text": [
        "\n",
        "2014-12-08 15:28:59.122612\trows processed: 60000"
       ]
      },
      {
       "output_type": "stream",
       "stream": "stdout",
       "text": [
        "\n",
        "2014-12-08 15:29:15.454056\trows processed: 80000"
       ]
      },
      {
       "output_type": "stream",
       "stream": "stdout",
       "text": [
        "\n",
        "2014-12-08 15:29:32.003717\trows processed: 100000"
       ]
      },
      {
       "output_type": "stream",
       "stream": "stdout",
       "text": [
        "\n",
        "2014-12-08 15:29:48.133330\trows processed: 120000"
       ]
      },
      {
       "output_type": "stream",
       "stream": "stdout",
       "text": [
        "\n",
        "2014-12-08 15:30:04.112279\trows processed: 140000"
       ]
      },
      {
       "output_type": "stream",
       "stream": "stdout",
       "text": [
        "\n",
        "2014-12-08 15:30:19.356029\trows processed: 160000"
       ]
      },
      {
       "output_type": "stream",
       "stream": "stdout",
       "text": [
        "\n",
        "2014-12-08 15:30:34.445014\trows processed: 180000"
       ]
      },
      {
       "output_type": "stream",
       "stream": "stdout",
       "text": [
        "\n",
        "2014-12-08 15:30:49.112859\trows processed: 200000"
       ]
      },
      {
       "output_type": "stream",
       "stream": "stdout",
       "text": [
        "\n",
        "2014-12-08 15:31:05.701012\trows processed: 220000"
       ]
      },
      {
       "output_type": "stream",
       "stream": "stdout",
       "text": [
        "\n",
        "2014-12-08 15:31:20.575588\trows processed: 240000"
       ]
      },
      {
       "output_type": "stream",
       "stream": "stdout",
       "text": [
        "\n",
        "2014-12-08 15:31:35.556201\trows processed: 260000"
       ]
      },
      {
       "output_type": "stream",
       "stream": "stdout",
       "text": [
        "\n",
        "2014-12-08 15:31:50.490873\trows processed: 280000"
       ]
      },
      {
       "output_type": "stream",
       "stream": "stdout",
       "text": [
        "\n",
        "2014-12-08 15:32:05.500143\trows processed: 300000"
       ]
      },
      {
       "output_type": "stream",
       "stream": "stdout",
       "text": [
        "\n",
        "2014-12-08 15:32:21.214066\trows processed: 320000"
       ]
      },
      {
       "output_type": "stream",
       "stream": "stdout",
       "text": [
        "\n",
        "2014-12-08 15:32:36.256442\trows processed: 340000"
       ]
      },
      {
       "output_type": "stream",
       "stream": "stdout",
       "text": [
        "\n",
        "2014-12-08 15:32:51.278004\trows processed: 360000"
       ]
      },
      {
       "output_type": "stream",
       "stream": "stdout",
       "text": [
        "\n",
        "2014-12-08 15:33:06.685275\trows processed: 380000"
       ]
      },
      {
       "output_type": "stream",
       "stream": "stdout",
       "text": [
        "\n",
        "2014-12-08 15:33:22.226018\trows processed: 400000"
       ]
      },
      {
       "output_type": "stream",
       "stream": "stdout",
       "text": [
        "\n",
        "2014-12-08 15:33:38.781910\trows processed: 420000"
       ]
      },
      {
       "output_type": "stream",
       "stream": "stdout",
       "text": [
        "\n",
        "2014-12-08 15:33:55.083248\trows processed: 440000"
       ]
      },
      {
       "output_type": "stream",
       "stream": "stdout",
       "text": [
        "\n",
        "2014-12-08 15:34:09.784361\trows processed: 460000"
       ]
      },
      {
       "output_type": "stream",
       "stream": "stdout",
       "text": [
        "\n",
        "2014-12-08 15:34:24.999444\trows processed: 480000"
       ]
      },
      {
       "output_type": "stream",
       "stream": "stdout",
       "text": [
        "\n",
        "2014-12-08 15:34:40.062633\trows processed: 500000"
       ]
      },
      {
       "output_type": "stream",
       "stream": "stdout",
       "text": [
        "\n",
        "Finished formatting rows for conversion to sparse matrices"
       ]
      },
      {
       "output_type": "stream",
       "stream": "stdout",
       "text": [
        "\n"
       ]
      }
     ],
     "prompt_number": 112
    },
    {
     "cell_type": "code",
     "collapsed": false,
     "input": [
      "# hash rows for input into model\n",
      "hashed_rows = hasher.transform(rows)\n",
      "# convert targets to numpy array\n",
      "targets = np.asarray(targets)"
     ],
     "language": "python",
     "metadata": {},
     "outputs": [],
     "prompt_number": 113
    },
    {
     "cell_type": "code",
     "collapsed": false,
     "input": [
      "# split data into train / test sets\n",
      "from sklearn.cross_validation import StratifiedShuffleSplit\n",
      "sss = StratifiedShuffleSplit(targets, n_iter=1)\n",
      "for train_index, test_index in sss:\n",
      "    train_index = train_index\n",
      "    test_index = test_index"
     ],
     "language": "python",
     "metadata": {},
     "outputs": [],
     "prompt_number": 114
    },
    {
     "cell_type": "code",
     "collapsed": false,
     "input": [
      "from sklearn.cross_validation import StratifiedKFold\n",
      "\n",
      "# confirm test / train / CV sets are appropriately balanced\n",
      "t = pd.Series(targets)\n",
      "print \"total: clicks - %s, views: %s\" % (t[t > 0].shape, t[t == 0].shape)\n",
      "print \"\"\n",
      " \n",
      "t = pd.Series(targets[test_index])\n",
      "print \"total - test set: clicks - %s, views: %s\" % (t[t > 0].shape, t[t == 0].shape)\n",
      "t = pd.Series(targets[train_index])\n",
      "print \"total - train set: clicks - %s, views: %s\" % (t[t > 0].shape, t[t == 0].shape)\n",
      "print \"\"\n",
      " \n",
      "ind = 1\n",
      "skf = StratifiedKFold(targets[train_index], n_folds=5,)\n",
      "for cv_train, cv_test in skf:\n",
      "    t = pd.Series(targets[cv_test])\n",
      "    print \"cv %s - test: clicks - %s, views: %s\" % (ind, t[t > 0].shape, t[t == 0].shape)\n",
      "    t = pd.Series(targets[cv_train])\n",
      "    print \"cv %s - train: clicks - %s, views: %s\" % (ind, t[t > 0].shape, t[t == 0].shape)\n",
      "    print \"\"\n",
      "    ind += 1"
     ],
     "language": "python",
     "metadata": {},
     "outputs": [
      {
       "output_type": "stream",
       "stream": "stdout",
       "text": [
        "total: clicks - (155,), views: (518185,)\n",
        "\n",
        "total - test set: clicks - (15,), views: (51819,)\n",
        "total - train set: clicks - (140,), views: (466366,)\n",
        "\n",
        "cv 1 - test: clicks - (37,), views: (93265,)"
       ]
      },
      {
       "output_type": "stream",
       "stream": "stdout",
       "text": [
        "\n",
        "cv 1 - train: clicks - (100,), views: (373104,)\n",
        "\n",
        "cv 2 - test: clicks - (29,), views: (93272,)\n",
        "cv 2 - train: clicks - (108,), views: (373097,)"
       ]
      },
      {
       "output_type": "stream",
       "stream": "stdout",
       "text": [
        "\n",
        "\n",
        "cv 3 - test: clicks - (22,), views: (93279,)\n",
        "cv 3 - train: clicks - (115,), views: (373090,)\n",
        "\n",
        "cv 4 - test: clicks - (27,), views: (93274,)\n",
        "cv 4 - train: clicks - (110,), views: (373095,)"
       ]
      },
      {
       "output_type": "stream",
       "stream": "stdout",
       "text": [
        "\n",
        "\n",
        "cv 5 - test: clicks - (22,), views: (93279,)\n",
        "cv 5 - train: clicks - (115,), views: (373090,)\n",
        "\n"
       ]
      }
     ],
     "prompt_number": 115
    },
    {
     "cell_type": "code",
     "collapsed": false,
     "input": [
      "from sklearn.linear_model import LogisticRegression\n",
      "from sklearn import grid_search, cross_validation\n",
      " \n",
      "# split train data set into stratified train / test groups X times\n",
      "# each train / test group conains the full train data set\n",
      "# stratification aims to maintain the proportion of target values found in full train set in each CV train / test set\n",
      "logr = LogisticRegression()\n",
      "parameters = {'C':[.001, .001, .01, .1, 1]}\n",
      "skf = cross_validation.StratifiedKFold(targets[train_index], n_folds=5,)\n",
      " \n",
      "# high accuracy is proportion of correctly labeled events\n",
      "# high precision relates to a low false positive rate\n",
      "# high recall relates to a low false negative rate\n",
      "scoring = ('accuracy', 'precision', 'recall')\n",
      "for s in scoring:\n",
      "    clf = grid_search.GridSearchCV(logr, parameters, cv=skf, scoring=s)\n",
      "    clf.fit(hashed_rows[train_index], targets[train_index])\n",
      "    print \"Scoring metric: %s\" % (s)\n",
      "    for g in clf.grid_scores_:\n",
      "        print g\n",
      "    print \"\""
     ],
     "language": "python",
     "metadata": {},
     "outputs": [
      {
       "output_type": "stream",
       "stream": "stdout",
       "text": [
        "Scoring metric: accuracy\n",
        "mean: 0.99970, std: 0.00000, params: {'C': 0.001}\n",
        "mean: 0.99970, std: 0.00000, params: {'C': 0.001}\n",
        "mean: 0.99970, std: 0.00000, params: {'C': 0.01}\n",
        "mean: 0.99970, std: 0.00000, params: {'C': 0.1}\n",
        "mean: 0.99970, std: 0.00000, params: {'C': 1}\n",
        "\n",
        "Scoring metric: precision"
       ]
      },
      {
       "output_type": "stream",
       "stream": "stdout",
       "text": [
        "\n",
        "mean: 0.00000, std: 0.00000, params: {'C': 0.001}\n",
        "mean: 0.00000, std: 0.00000, params: {'C': 0.001}\n",
        "mean: 0.00000, std: 0.00000, params: {'C': 0.01}\n",
        "mean: 0.00000, std: 0.00000, params: {'C': 0.1}\n",
        "mean: 0.00000, std: 0.00000, params: {'C': 1}\n",
        "\n",
        "Scoring metric: recall"
       ]
      },
      {
       "output_type": "stream",
       "stream": "stdout",
       "text": [
        "\n",
        "mean: 0.00000, std: 0.00000, params: {'C': 0.001}\n",
        "mean: 0.00000, std: 0.00000, params: {'C': 0.001}\n",
        "mean: 0.00000, std: 0.00000, params: {'C': 0.01}\n",
        "mean: 0.00000, std: 0.00000, params: {'C': 0.1}\n",
        "mean: 0.00000, std: 0.00000, params: {'C': 1}\n",
        "\n"
       ]
      }
     ],
     "prompt_number": 116
    },
    {
     "cell_type": "code",
     "collapsed": false,
     "input": [
      "from sklearn.metrics import accuracy_score, precision_score, recall_score, precision_recall_curve, roc_auc_score\n",
      " \n",
      "# test on unseen data\n",
      "clf = LogisticRegression(C=0.001)\n",
      "clf.fit(hashed_rows[train_index], targets[train_index])\n",
      "pred = clf.predict(hashed_rows[test_index])\n",
      "pred_prob = clf.predict_proba(hashed_rows[test_index])\n",
      " \n",
      "for i in (accuracy_score, precision_score, recall_score):\n",
      "    print \"%s: %0.10f\" % (str(i).split()[1], i(targets[test_index], pred))\n",
      "print \"\" \n",
      "precision, recall, thresholds = precision_recall_curve(targets[test_index], pred_prob[:,1])\n",
      "prec_recall_chart = pd.DataFrame({\n",
      "                                'Precision': precision[:-1],\n",
      "                                'Recall': recall[:-1],\n",
      "                                }, \n",
      "                                index=thresholds)  \n",
      "prec_recall_chart.plot()\n",
      " \n",
      "auc = roc_auc_score(targets[test_index], pred_prob[:,1])\n",
      "print \"Area Under the Curve (AUC): %0.5f\" % (auc)"
     ],
     "language": "python",
     "metadata": {},
     "outputs": [
      {
       "output_type": "stream",
       "stream": "stdout",
       "text": [
        "accuracy_score: 0.9997106147\n",
        "precision_score: 0.0000000000\n",
        "recall_score: 0.0000000000\n",
        "\n",
        "Area Under the Curve (AUC): 0.70515"
       ]
      },
      {
       "output_type": "stream",
       "stream": "stdout",
       "text": [
        "\n"
       ]
      },
      {
       "metadata": {},
       "output_type": "display_data",
       "png": "[encoded data removed]",
       "text": [
        "<matplotlib.figure.Figure at 0x12cd88190>"
       ]
      }
     ],
     "prompt_number": 117
    },
    {
     "cell_type": "code",
     "collapsed": false,
     "input": [
      "# run SGD in batches\n",
      "from sklearn.linear_model import SGDClassifier\n",
      "from sklearn.metrics import log_loss\n",
      " \n",
      "batch_size = 5000\n",
      "mark = 0\n",
      "scores = {'sum_accuracy': 0., 'sum_log_loss': 0., 'sum_precision': 0., 'sum_recall': 0., 'count': 0.}\n",
      "set_length = targets.shape[0]\n",
      "clf = SGDClassifier(loss='log', alpha=0.001)\n",
      "for i in range(set_length):\n",
      "            \n",
      "    if (i % batch_size == 0 and i > 0) or (i == (set_length - 1)):\n",
      "        row_bank = hashed_rows[mark:i]\n",
      "        target_bank = targets[mark:i]  \n",
      "        \n",
      "        # predict probability row is a click\n",
      "        try:\n",
      "            pred_label = clf.predict(row_bank)\n",
      "            pred_prob = clf.predict_proba(row_bank)[:,1]\n",
      "            \n",
      "            batch_count = target_bank.shape[0]\n",
      "            scores['count'] += batch_count\n",
      "            \n",
      "            accuracy = accuracy_score(target_bank, pred_label)\n",
      "            scores['sum_accuracy'] += (accuracy * batch_count)\n",
      "            \n",
      "            loss = log_loss(target_bank, pred_prob)\n",
      "            scores['sum_log_loss'] += (loss * batch_count)\n",
      "            \n",
      "            precision = preciscion_score(targets_bank, pred_label)\n",
      "            scores['sum_precision'] += (precision * batch_count)\n",
      "            \n",
      "            recall = recall_score(targets_bank, pred_label)\n",
      "            scores['sum_recall'] += (recall * batch_count)\n",
      "                      \n",
      "        except:\n",
      "            pass\n",
      "            \n",
      "        clf.partial_fit(row_bank, target_bank, np.asarray([0.,1.]))\n",
      "        mark = i\n",
      "   \n",
      "    # monitor progress\n",
      "    if i % 20000 == 0 and i > 0:   \n",
      "        print '%s\\trows processed: %d\\tAvg Accuracy: %0.4f\\tAvg Log Loss: %0.2f\\tAvg Prec: %0.2f\\tAvg Recall: %0.2f' % (\n",
      "                                                                                    datetime.datetime.now().time(), \n",
      "                                                                                    scores['count'], \n",
      "                                                                                    scores['sum_accuracy'] / scores['count'], \n",
      "                                                                                    scores['sum_log_loss']/  scores['count'],\n",
      "                                                                                    scores['sum_precision'] / scores['count'],\n",
      "                                                                                    scores['sum_recall'] / scores['count'],)\n",
      "\n",
      "print \"Finished training all rows\""
     ],
     "language": "python",
     "metadata": {},
     "outputs": [
      {
       "output_type": "stream",
       "stream": "stdout",
       "text": [
        "15:39:28.299871\trows processed: 15000\tAvg Accuracy: 0.9995\tAvg Log Loss: 0.01\tAvg Prec: 0.00\tAvg Recall: 0.00\n",
        "15:39:28.323031\trows processed: 35000\tAvg Accuracy: 0.9996\tAvg Log Loss: 0.01\tAvg Prec: 0.00\tAvg Recall: 0.00\n",
        "15:39:28.340027\trows processed: 55000\tAvg Accuracy: 0.9995\tAvg Log Loss: 0.01\tAvg Prec: 0.00\tAvg Recall: 0.00\n",
        "15:39:28.356439\trows processed: 75000\tAvg Accuracy: 0.9996\tAvg Log Loss: 0.01\tAvg Prec: 0.00\tAvg Recall: 0.00"
       ]
      },
      {
       "output_type": "stream",
       "stream": "stdout",
       "text": [
        "\n",
        "15:39:28.373544\trows processed: 95000\tAvg Accuracy: 0.9996\tAvg Log Loss: 0.01\tAvg Prec: 0.00\tAvg Recall: 0.00\n",
        "15:39:28.392440\trows processed: 115000\tAvg Accuracy: 0.9995\tAvg Log Loss: 0.01\tAvg Prec: 0.00\tAvg Recall: 0.00\n",
        "15:39:28.407613\trows processed: 135000\tAvg Accuracy: 0.9996\tAvg Log Loss: 0.01\tAvg Prec: 0.00\tAvg Recall: 0.00"
       ]
      },
      {
       "output_type": "stream",
       "stream": "stdout",
       "text": [
        "\n",
        "15:39:28.426274\trows processed: 155000\tAvg Accuracy: 0.9996\tAvg Log Loss: 0.01\tAvg Prec: 0.00\tAvg Recall: 0.00\n",
        "15:39:28.445337\trows processed: 175000\tAvg Accuracy: 0.9996\tAvg Log Loss: 0.01\tAvg Prec: 0.00\tAvg Recall: 0.00\n",
        "15:39:28.461582\trows processed: 195000\tAvg Accuracy: 0.9997\tAvg Log Loss: 0.01\tAvg Prec: 0.00\tAvg Recall: 0.00"
       ]
      },
      {
       "output_type": "stream",
       "stream": "stdout",
       "text": [
        "\n",
        "15:39:28.480604\trows processed: 215000\tAvg Accuracy: 0.9997\tAvg Log Loss: 0.01\tAvg Prec: 0.00\tAvg Recall: 0.00\n",
        "15:39:28.497695\trows processed: 235000\tAvg Accuracy: 0.9997\tAvg Log Loss: 0.01\tAvg Prec: 0.00\tAvg Recall: 0.00\n",
        "15:39:28.513492\trows processed: 255000\tAvg Accuracy: 0.9997\tAvg Log Loss: 0.01\tAvg Prec: 0.00\tAvg Recall: 0.00"
       ]
      },
      {
       "output_type": "stream",
       "stream": "stdout",
       "text": [
        "\n",
        "15:39:28.532151\trows processed: 275000\tAvg Accuracy: 0.9997\tAvg Log Loss: 0.01\tAvg Prec: 0.00\tAvg Recall: 0.00\n",
        "15:39:28.548589\trows processed: 295000\tAvg Accuracy: 0.9997\tAvg Log Loss: 0.01\tAvg Prec: 0.00\tAvg Recall: 0.00\n",
        "15:39:28.564092\trows processed: 315000\tAvg Accuracy: 0.9997\tAvg Log Loss: 0.01\tAvg Prec: 0.00\tAvg Recall: 0.00"
       ]
      },
      {
       "output_type": "stream",
       "stream": "stdout",
       "text": [
        "\n",
        "15:39:28.582897\trows processed: 335000\tAvg Accuracy: 0.9997\tAvg Log Loss: 0.01\tAvg Prec: 0.00\tAvg Recall: 0.00\n",
        "15:39:28.599163\trows processed: 355000\tAvg Accuracy: 0.9997\tAvg Log Loss: 0.01\tAvg Prec: 0.00\tAvg Recall: 0.00\n",
        "15:39:28.614644\trows processed: 375000\tAvg Accuracy: 0.9997\tAvg Log Loss: 0.01\tAvg Prec: 0.00\tAvg Recall: 0.00"
       ]
      },
      {
       "output_type": "stream",
       "stream": "stdout",
       "text": [
        "\n",
        "15:39:28.634395\trows processed: 395000\tAvg Accuracy: 0.9997\tAvg Log Loss: 0.01\tAvg Prec: 0.00\tAvg Recall: 0.00\n",
        "15:39:28.652151\trows processed: 415000\tAvg Accuracy: 0.9997\tAvg Log Loss: 0.01\tAvg Prec: 0.00\tAvg Recall: 0.00\n",
        "15:39:28.667356\trows processed: 435000\tAvg Accuracy: 0.9997\tAvg Log Loss: 0.01\tAvg Prec: 0.00\tAvg Recall: 0.00"
       ]
      },
      {
       "output_type": "stream",
       "stream": "stdout",
       "text": [
        "\n",
        "15:39:28.685466\trows processed: 455000\tAvg Accuracy: 0.9997\tAvg Log Loss: 0.01\tAvg Prec: 0.00\tAvg Recall: 0.00\n",
        "15:39:28.708704\trows processed: 475000\tAvg Accuracy: 0.9997\tAvg Log Loss: 0.01\tAvg Prec: 0.00\tAvg Recall: 0.00\n",
        "15:39:28.726349\trows processed: 495000\tAvg Accuracy: 0.9997\tAvg Log Loss: 0.01\tAvg Prec: 0.00\tAvg Recall: 0.00"
       ]
      },
      {
       "output_type": "stream",
       "stream": "stdout",
       "text": [
        "\n",
        "Finished training all rows\n"
       ]
      }
     ],
     "prompt_number": 120
    },
    {
     "cell_type": "code",
     "collapsed": false,
     "input": [
      "# test insertion order as only explanatory column"
     ],
     "language": "python",
     "metadata": {},
     "outputs": [],
     "prompt_number": 119
    }
   ],
   "metadata": {}
  }
 ]
}